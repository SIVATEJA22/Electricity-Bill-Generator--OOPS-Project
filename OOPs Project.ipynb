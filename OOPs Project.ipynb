{
 "cells": [
  {
   "cell_type": "markdown",
   "id": "1c471c73-149a-4ea4-8fab-648ea3bd12d3",
   "metadata": {},
   "source": [
    "# Electricity Bill Generator using Python"
   ]
  },
  {
   "cell_type": "markdown",
   "id": "9e8f65a3-8ef3-4731-8c47-69e291122a97",
   "metadata": {},
   "source": [
    "# Introduction"
   ]
  },
  {
   "cell_type": "markdown",
   "id": "9bc857aa-4c44-46f8-9a3e-bc54681b7a64",
   "metadata": {},
   "source": [
    "### This notebook shows a Python program that generates electricity bills. Based on the number of units used, the city, and the tariff rates of the electricity supplier, the program determines the total electricity bill. It provides examples of fundamental input/output interaction, functions, modular programming, and error handling."
   ]
  },
  {
   "cell_type": "markdown",
   "id": "47d2935f-4ac7-4031-8292-41318da24d68",
   "metadata": {},
   "source": [
    "# Concepts Used"
   ]
  },
  {
   "cell_type": "markdown",
   "id": "602c2ab2-d5fd-4127-bc2f-b5c8f57f77d1",
   "metadata": {},
   "source": [
    "### Functions: Modular blocks of code performing specific tasks.\n",
    "\n",
    "### Input Handling: Accepting and validating user input.\n",
    "\n",
    "### Conditional Logic: Using decision structures to determine tariff rates.\n",
    "\n",
    "### Data Structures: Using dictionaries to store tariff data.\n",
    "\n",
    "### Error Handling: Managing invalid inputs gracefully."
   ]
  },
  {
   "cell_type": "markdown",
   "id": "c6a559ef-8dcc-4e5f-93df-4157193381e7",
   "metadata": {},
   "source": [
    "# Code Implementation"
   ]
  },
  {
   "cell_type": "code",
   "execution_count": 3,
   "id": "cbec62bb-55de-42cc-b329-f07252152872",
   "metadata": {},
   "outputs": [
    {
     "name": "stdout",
     "output_type": "stream",
     "text": [
      "####################################\n",
      "##### Electricity Bill Generator #####\n",
      "####################################\n"
     ]
    },
    {
     "name": "stdin",
     "output_type": "stream",
     "text": [
      "Enter your name:  teja\n",
      "Enter your city:  kochi\n",
      "Enter your electricity supplier:  kerala kseb\n",
      "Enter the number of units consumed:  150\n"
     ]
    },
    {
     "name": "stdout",
     "output_type": "stream",
     "text": [
      "-------------------------\n",
      "----- Billing Summary -----\n",
      "-------------------------\n",
      "Name: teja\n",
      "City: Kochi\n",
      "Electricity Supplier: Kerala kseb\n",
      "Units Consumed: 150.0 units\n",
      "Tariff: ₹5.1 per unit\n",
      "Total Bill Amount: ₹765.00\n",
      "~~~~~~~~~~~~~~~~~~~~\n",
      "~~~~~ Thank You! ~~~~~\n",
      "~~~~~~~~~~~~~~~~~~~~\n"
     ]
    }
   ],
   "source": [
    "import time\n",
    "\n",
    "def print_banner(message, symbol=\"*\"):\n",
    "    \"\"\"Prints a banner around a message for better UI display.\"\"\"\n",
    "    print(symbol * (len(message) + 10))\n",
    "    print(f\"{symbol * 5} {message} {symbol * 5}\")\n",
    "    print(symbol * (len(message) + 10))\n",
    "\n",
    "def fetch_tariff(location, supplier, consumption):\n",
    "    \"\"\"Fetch tariff rate based on location, supplier and consumption.\"\"\"\n",
    "    rate_chart = {\n",
    "        \"surat\": {\n",
    "            \"dgvcl\": [\n",
    "                (100, 4.05),\n",
    "                (300, 5.60),\n",
    "                (500, 7.20),\n",
    "                (float('inf'), 8.50)\n",
    "            ]\n",
    "        },\n",
    "        \"indore\": {\n",
    "            \"mpwest\": [\n",
    "                (100, 3.90),\n",
    "                (300, 5.40),\n",
    "                (500, 6.90),\n",
    "                (float('inf'), 7.80)\n",
    "            ]\n",
    "        },\n",
    "        \"nagpur\": {\n",
    "            \"mahavitaran\": [\n",
    "                (100, 4.00),\n",
    "                (300, 5.70),\n",
    "                (500, 7.40),\n",
    "                (float('inf'), 8.60)\n",
    "            ]\n",
    "        },\n",
    "        \"chandigarh\": {\n",
    "            \"chandigarh electricity\": [\n",
    "                (100, 3.85),\n",
    "                (300, 5.25),\n",
    "                (500, 6.85),\n",
    "                (float('inf'), 7.90)\n",
    "            ]\n",
    "        },\n",
    "        \"kochi\": {\n",
    "            \"kerala kseb\": [\n",
    "                (100, 3.80),\n",
    "                (200, 5.10),\n",
    "                (500, 6.70),\n",
    "                (float('inf'), 8.20)\n",
    "            ]\n",
    "        },\n",
    "        \"visakhapatnam\": {\n",
    "            \"apepdcl\": [\n",
    "                (100, 3.75),\n",
    "                (300, 5.30),\n",
    "                (500, 6.90),\n",
    "                (float('inf'), 7.90)\n",
    "            ]\n",
    "        },\n",
    "        \"vadodara\": {\n",
    "            \"mgvcl\": [\n",
    "                (100, 4.00),\n",
    "                (300, 5.50),\n",
    "                (500, 7.00),\n",
    "                (float('inf'), 8.10)\n",
    "            ]\n",
    "        },\n",
    "        \"kanpur\": {\n",
    "            \"kesco\": [\n",
    "                (100, 3.95),\n",
    "                (300, 5.45),\n",
    "                (500, 6.95),\n",
    "                (float('inf'), 7.95)\n",
    "            ]\n",
    "        },\n",
    "        \"rajkot\": {\n",
    "            \"pgvcl\": [\n",
    "                (100, 4.10),\n",
    "                (300, 5.60),\n",
    "                (500, 7.20),\n",
    "                (float('inf'), 8.30)\n",
    "            ]\n",
    "        },\n",
    "        \"ludhiana\": {\n",
    "            \"pspcl\": [\n",
    "                (100, 3.90),\n",
    "                (300, 5.40),\n",
    "                (500, 6.90),\n",
    "                (float('inf'), 7.85)\n",
    "            ]\n",
    "        },\n",
    "        \"noida\": {\n",
    "            \"npcl\": [\n",
    "                (100, 4.05),\n",
    "                (300, 5.55),\n",
    "                (500, 7.10),\n",
    "                (float('inf'), 8.20)\n",
    "            ]\n",
    "        },\n",
    "        \"gurugram\": {\n",
    "            \"dhesl\": [\n",
    "                (100, 4.00),\n",
    "                (300, 5.50),\n",
    "                (500, 7.00),\n",
    "                (float('inf'), 8.10)\n",
    "            ]\n",
    "        }\n",
    "    }\n",
    "    \n",
    "    location = location.lower()\n",
    "    supplier = supplier.lower()\n",
    "    \n",
    "    if location in rate_chart and supplier in rate_chart[location]:\n",
    "        for limit, rate in rate_chart[location][supplier]:\n",
    "            if consumption <= limit:\n",
    "                return rate\n",
    "    return None\n",
    "\n",
    "def compute_bill(consumption, rate):\n",
    "    \"\"\"Calculate the total bill amount.\"\"\"\n",
    "    return consumption * rate\n",
    "\n",
    "def main():\n",
    "    print_banner(\"Electricity Bill Generator\", \"#\")\n",
    "    \n",
    "    customer_name = input(\"Enter your name: \")\n",
    "    location = input(\"Enter your city: \")\n",
    "    supplier = input(\"Enter your electricity supplier: \")\n",
    "    \n",
    "    try:\n",
    "        consumption = float(input(\"Enter the number of units consumed: \"))\n",
    "    except ValueError:\n",
    "        print(\"Invalid input for units. Please enter a numerical value.\")\n",
    "        return\n",
    "    \n",
    "    tariff = fetch_tariff(location, supplier, consumption)\n",
    "    \n",
    "    if tariff is None:\n",
    "        print(\"Invalid city, supplier, or consumption range! Please enter valid details.\")\n",
    "        return\n",
    "    \n",
    "    total_amount = compute_bill(consumption, tariff)\n",
    "    \n",
    "    time.sleep(1)\n",
    "    print_banner(\"Billing Summary\", \"-\")\n",
    "    print(f\"Name: {customer_name}\")\n",
    "    print(f\"City: {location.capitalize()}\")\n",
    "    print(f\"Electricity Supplier: {supplier.capitalize()}\")\n",
    "    print(f\"Units Consumed: {consumption} units\")\n",
    "    print(f\"Tariff: ₹{tariff} per unit\")\n",
    "    print(f\"Total Bill Amount: ₹{total_amount:.2f}\")\n",
    "    print_banner(\"Thank You!\", \"~\")\n",
    "\n",
    "if __name__ == \"__main__\":\n",
    "    main()\n"
   ]
  },
  {
   "cell_type": "markdown",
   "id": "2ff5689e-1de3-4e74-b630-4ec3c95d2ce3",
   "metadata": {},
   "source": [
    "# How To Run"
   ]
  },
  {
   "cell_type": "markdown",
   "id": "4df82fa1-cf46-4295-9885-b285c98db953",
   "metadata": {},
   "source": [
    "### 1.Run each cell in the notebook sequentially.\n",
    "\n",
    "### 2.Enter the requested information when prompted.\n",
    "\n",
    "### 3.The program will display the calculated electricity bill based on the given inputs.\n",
    "\n"
   ]
  },
  {
   "cell_type": "markdown",
   "id": "56fb99a1-8a4e-49a1-9843-996bab427d55",
   "metadata": {},
   "source": [
    "# Notes"
   ]
  },
  {
   "cell_type": "markdown",
   "id": "0354931d-711c-4515-82cf-2b955d1d3fba",
   "metadata": {},
   "source": [
    "### 1.The tariff rates are specific to certain cities and electricity suppliers.\n",
    "\n",
    "### 2.The program handles invalid numeric input for unit consumption.\n",
    "\n",
    "### 3.This implementation uses basic OOP concepts inspired modular thinking with functions encapsulating specific tasks."
   ]
  },
  {
   "cell_type": "markdown",
   "id": "4e5b50d5-c731-48ef-a3cf-782fc99377a6",
   "metadata": {},
   "source": [
    "# Abstraction:"
   ]
  },
  {
   "cell_type": "markdown",
   "id": "9a4c4d75-38c3-40bd-9f0d-a5a4f5821f46",
   "metadata": {},
   "source": [
    "### Definition: Abstraction is the concept of hiding complex implementation details and showing only essential features to the user. It focuses on \"what\" an object does rather than \"how\" it does it."
   ]
  },
  {
   "cell_type": "markdown",
   "id": "6f430501-dc43-4448-bb0a-0b74047b5855",
   "metadata": {},
   "source": [
    "### The fetch_tariff function abstracts the complexity of looking up tariff rates based on city, supplier, and consumption without exposing the underlying dictionary details to the user.\n",
    "\n",
    "### The compute_bill function abstracts the calculation of the total bill from the main flow, letting the user only interact with inputs and outputs."
   ]
  },
  {
   "cell_type": "markdown",
   "id": "d7ccdabc-1fbd-40a9-9b0c-a56656fe8374",
   "metadata": {},
   "source": [
    "# Encapsulation"
   ]
  },
  {
   "cell_type": "markdown",
   "id": "32aaa17c-7329-41c0-9338-9e5d697a1432",
   "metadata": {},
   "source": [
    "### Definition: Encapsulation binds the data (attributes) and methods that manipulate the data into a single unit (class), restricting direct access to some components and protecting the object’s integrity.\n",
    "\n",
    "\n",
    "### Though your code uses functions, the concept of encapsulation is suggested by bundling tariff data and related computation inside specific functions (fetch_tariff, compute_bill, print_banner), encapsulating logic related to tariff lookup, billing, and UI display.\n",
    "\n",
    "### Data like rate_chart is kept internal within fetch_tariff, hiding it from the rest of the program."
   ]
  },
  {
   "cell_type": "markdown",
   "id": "bba667ac-731e-4e5e-8aa9-e98d78622855",
   "metadata": {},
   "source": [
    "# Inheritance"
   ]
  },
  {
   "cell_type": "markdown",
   "id": "694bd807-696f-4a6b-a3e5-5c66c98ca391",
   "metadata": {},
   "source": [
    "### Definition: Inheritance allows one class to inherit attributes and methods from another class, facilitating code reuse and hierarchical classification.\n",
    "\n",
    "\n",
    "### Your current implementation uses functions and does not explicitly use inheritance since no classes or subclasses are defined.\n",
    "\n",
    "### If you refactor the code to define classes such as Customer, ElectricitySupplier, or BillCalculator, inheritance could be effectively applied then."
   ]
  },
  {
   "cell_type": "markdown",
   "id": "54e94001-7e70-40ad-afee-16a191ca2b54",
   "metadata": {},
   "source": [
    "# Polymorphism"
   ]
  },
  {
   "cell_type": "markdown",
   "id": "239861a8-2736-421c-8d4e-c8ea9454c26f",
   "metadata": {},
   "source": [
    "### Definition: Polymorphism allows objects of different classes to be treated as instances of the same class through a common interface, often by method overriding or overloading.\n",
    "### Polymorphism is not explicitly demonstrated as you do not have classes or method overrides.\n",
    "\n",
    "### In potential OOP design, polymorphism might allow different supplier classes to implement a common method like get_tariff(), returning specific tariff rates according to the supplier class."
   ]
  },
  {
   "cell_type": "code",
   "execution_count": null,
   "id": "07ac1f92-c2d5-440f-9d1e-62492256ccf8",
   "metadata": {},
   "outputs": [],
   "source": []
  }
 ],
 "metadata": {
  "kernelspec": {
   "display_name": "Python [conda env:base] *",
   "language": "python",
   "name": "conda-base-py"
  },
  "language_info": {
   "codemirror_mode": {
    "name": "ipython",
    "version": 3
   },
   "file_extension": ".py",
   "mimetype": "text/x-python",
   "name": "python",
   "nbconvert_exporter": "python",
   "pygments_lexer": "ipython3",
   "version": "3.12.7"
  }
 },
 "nbformat": 4,
 "nbformat_minor": 5
}
